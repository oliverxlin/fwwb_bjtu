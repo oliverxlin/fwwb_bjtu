{
 "cells": [
  {
   "cell_type": "code",
   "execution_count": 12,
   "metadata": {},
   "outputs": [],
   "source": [
    "import pandas as pd\n",
    "import numpy as np\n",
    "from sklearn.utils import shuffle\n",
    "import matplotlib.pyplot as plt\n",
    "import chardet"
   ]
  },
  {
   "cell_type": "code",
   "execution_count": 20,
   "metadata": {},
   "outputs": [],
   "source": [
    "def get_encoding(file):\n",
    "    # 二进制方式读取，获取字节数据，检测类型\n",
    "    with open(file, 'rb') as f:\n",
    "        return chardet.detect(f.read())['encoding']"
   ]
  },
  {
   "cell_type": "code",
   "execution_count": 45,
   "metadata": {},
   "outputs": [],
   "source": [
    "data = []\n",
    "with open('data/test/test.tsv', \"rb\") as f:\n",
    "    with open(\"data/test/test_raw.tsv\", \"w\") as w:\n",
    "        w.write(f.readline().decode(\"utf-8\"))\n",
    "        for line in f.readlines():\n",
    "            w.write(line.decode(\"gbk\", \"ignore\"))\n",
    "#             data.append(line.decode(\"gbk\"))"
   ]
  },
  {
   "cell_type": "code",
   "execution_count": 47,
   "metadata": {},
   "outputs": [
    {
     "ename": "IndexError",
     "evalue": "list index out of range",
     "output_type": "error",
     "traceback": [
      "\u001b[1;31m---------------------------------------------------------------------------\u001b[0m",
      "\u001b[1;31mIndexError\u001b[0m                                Traceback (most recent call last)",
      "\u001b[1;32m<ipython-input-47-80a4aab09c73>\u001b[0m in \u001b[0;36m<module>\u001b[1;34m()\u001b[0m\n\u001b[1;32m----> 1\u001b[1;33m \u001b[0mdata\u001b[0m\u001b[1;33m[\u001b[0m\u001b[1;36m0\u001b[0m\u001b[1;33m]\u001b[0m\u001b[1;33m\u001b[0m\u001b[1;33m\u001b[0m\u001b[0m\n\u001b[0m",
      "\u001b[1;31mIndexError\u001b[0m: list index out of range"
     ]
    }
   ],
   "source": []
  },
  {
   "cell_type": "code",
   "execution_count": 48,
   "metadata": {},
   "outputs": [
    {
     "name": "stdout",
     "output_type": "stream",
     "text": [
      "特征如下：['ITEM_NAME'] \n",
      "\n",
      "数据数目:  4475684\n"
     ]
    },
    {
     "data": {
      "text/html": [
       "<div>\n",
       "<style scoped>\n",
       "    .dataframe tbody tr th:only-of-type {\n",
       "        vertical-align: middle;\n",
       "    }\n",
       "\n",
       "    .dataframe tbody tr th {\n",
       "        vertical-align: top;\n",
       "    }\n",
       "\n",
       "    .dataframe thead th {\n",
       "        text-align: right;\n",
       "    }\n",
       "</style>\n",
       "<table border=\"1\" class=\"dataframe\">\n",
       "  <thead>\n",
       "    <tr style=\"text-align: right;\">\n",
       "      <th></th>\n",
       "      <th>ITEM_NAME</th>\n",
       "    </tr>\n",
       "  </thead>\n",
       "  <tbody>\n",
       "    <tr>\n",
       "      <th>0</th>\n",
       "      <td>腾讯QQ蓝钻贵族34个月直充</td>\n",
       "    </tr>\n",
       "    <tr>\n",
       "      <th>1</th>\n",
       "      <td>腾讯QQ币24元24QQ币24个直充24Q币24个Q币24个QB/24QQB★自动充值</td>\n",
       "    </tr>\n",
       "    <tr>\n",
       "      <th>2</th>\n",
       "      <td>腾讯QQ币101元101QQ币101个直充101Q币101个Q币101个QB★自动充值</td>\n",
       "    </tr>\n",
       "    <tr>\n",
       "      <th>3</th>\n",
       "      <td>腾讯QQ币402元 402QB 402QQ币402个 402Q币 402个Q币 自动充值</td>\n",
       "    </tr>\n",
       "    <tr>\n",
       "      <th>4</th>\n",
       "      <td>腾讯QQ币380元 380QB 380QQ币380个 380Q币 380个Q币 自动充值</td>\n",
       "    </tr>\n",
       "  </tbody>\n",
       "</table>\n",
       "</div>"
      ],
      "text/plain": [
       "                                      ITEM_NAME\n",
       "0                                腾讯QQ蓝钻贵族34个月直充\n",
       "1   腾讯QQ币24元24QQ币24个直充24Q币24个Q币24个QB/24QQB★自动充值\n",
       "2   腾讯QQ币101元101QQ币101个直充101Q币101个Q币101个QB★自动充值\n",
       "3  腾讯QQ币402元 402QB 402QQ币402个 402Q币 402个Q币 自动充值\n",
       "4  腾讯QQ币380元 380QB 380QQ币380个 380Q币 380个Q币 自动充值"
      ]
     },
     "execution_count": 48,
     "metadata": {},
     "output_type": "execute_result"
    }
   ],
   "source": [
    "data = pd.read_csv('data/test/test_raw.tsv', sep='\\t',encoding = \"gbk\")\n",
    "features = data.columns.values\n",
    "print(\"特征如下：{} \\n\".format(features))\n",
    "print(\"数据数目: \", len(data))\n",
    "data.head()"
   ]
  },
  {
   "cell_type": "code",
   "execution_count": 50,
   "metadata": {},
   "outputs": [
    {
     "data": {
      "text/plain": [
       "ITEM_NAME    腾讯QQ币24元24QQ币24个直充24Q币24个Q币24个QB/24QQB★自动充值\n",
       "Name: 1, dtype: object"
      ]
     },
     "execution_count": 50,
     "metadata": {},
     "output_type": "execute_result"
    }
   ],
   "source": []
  },
  {
   "cell_type": "code",
   "execution_count": 68,
   "metadata": {},
   "outputs": [],
   "source": [
    "\n",
    "datas = []\n",
    "start = 0\n",
    "end = 500000\n",
    "for i in range(9):\n",
    "    if end + 500000 * i < data.shape[0]:\n",
    "        data.iloc[start + 500000 * i : end + 500000 * i ].to_csv(\"Test_Raw_{}\".format(i))\n",
    "    else:\n",
    "        data.iloc[start + 500000 * i : ].to_csv(\"Test_Raw_{}\".format(i))"
   ]
  },
  {
   "cell_type": "code",
   "execution_count": 66,
   "metadata": {},
   "outputs": [
    {
     "name": "stdout",
     "output_type": "stream",
     "text": [
      "(500000, 1)\n",
      "(500000, 1)\n",
      "(500000, 1)\n",
      "(500000, 1)\n",
      "(500000, 1)\n",
      "(500000, 1)\n",
      "(500000, 1)\n",
      "(500000, 1)\n",
      "(475684, 1)\n"
     ]
    }
   ],
   "source": [
    "for i in datas:\n",
    "    print(i.shape)"
   ]
  },
  {
   "cell_type": "code",
   "execution_count": 56,
   "metadata": {},
   "outputs": [
    {
     "data": {
      "text/plain": [
       "(4475684, 1)"
      ]
     },
     "execution_count": 56,
     "metadata": {},
     "output_type": "execute_result"
    }
   ],
   "source": [
    "datas[0].shape\n",
    "datas[1].shape"
   ]
  },
  {
   "cell_type": "code",
   "execution_count": 61,
   "metadata": {},
   "outputs": [
    {
     "data": {
      "text/html": [
       "<div>\n",
       "<style scoped>\n",
       "    .dataframe tbody tr th:only-of-type {\n",
       "        vertical-align: middle;\n",
       "    }\n",
       "\n",
       "    .dataframe tbody tr th {\n",
       "        vertical-align: top;\n",
       "    }\n",
       "\n",
       "    .dataframe thead th {\n",
       "        text-align: right;\n",
       "    }\n",
       "</style>\n",
       "<table border=\"1\" class=\"dataframe\">\n",
       "  <thead>\n",
       "    <tr style=\"text-align: right;\">\n",
       "      <th></th>\n",
       "      <th>ITEM_NAME</th>\n",
       "    </tr>\n",
       "  </thead>\n",
       "  <tbody>\n",
       "    <tr>\n",
       "      <th>0</th>\n",
       "      <td>腾讯QQ蓝钻贵族34个月直充</td>\n",
       "    </tr>\n",
       "    <tr>\n",
       "      <th>1</th>\n",
       "      <td>腾讯QQ币24元24QQ币24个直充24Q币24个Q币24个QB/24QQB★自动充值</td>\n",
       "    </tr>\n",
       "    <tr>\n",
       "      <th>2</th>\n",
       "      <td>腾讯QQ币101元101QQ币101个直充101Q币101个Q币101个QB★自动充值</td>\n",
       "    </tr>\n",
       "    <tr>\n",
       "      <th>3</th>\n",
       "      <td>腾讯QQ币402元 402QB 402QQ币402个 402Q币 402个Q币 自动充值</td>\n",
       "    </tr>\n",
       "    <tr>\n",
       "      <th>4</th>\n",
       "      <td>腾讯QQ币380元 380QB 380QQ币380个 380Q币 380个Q币 自动充值</td>\n",
       "    </tr>\n",
       "  </tbody>\n",
       "</table>\n",
       "</div>"
      ],
      "text/plain": [
       "                                      ITEM_NAME\n",
       "0                                腾讯QQ蓝钻贵族34个月直充\n",
       "1   腾讯QQ币24元24QQ币24个直充24Q币24个Q币24个QB/24QQB★自动充值\n",
       "2   腾讯QQ币101元101QQ币101个直充101Q币101个Q币101个QB★自动充值\n",
       "3  腾讯QQ币402元 402QB 402QQ币402个 402Q币 402个Q币 自动充值\n",
       "4  腾讯QQ币380元 380QB 380QQ币380个 380Q币 380个Q币 自动充值"
      ]
     },
     "execution_count": 61,
     "metadata": {},
     "output_type": "execute_result"
    }
   ],
   "source": [
    "datas[0].head()"
   ]
  },
  {
   "cell_type": "code",
   "execution_count": 62,
   "metadata": {},
   "outputs": [
    {
     "data": {
      "text/html": [
       "<div>\n",
       "<style scoped>\n",
       "    .dataframe tbody tr th:only-of-type {\n",
       "        vertical-align: middle;\n",
       "    }\n",
       "\n",
       "    .dataframe tbody tr th {\n",
       "        vertical-align: top;\n",
       "    }\n",
       "\n",
       "    .dataframe thead th {\n",
       "        text-align: right;\n",
       "    }\n",
       "</style>\n",
       "<table border=\"1\" class=\"dataframe\">\n",
       "  <thead>\n",
       "    <tr style=\"text-align: right;\">\n",
       "      <th></th>\n",
       "      <th>ITEM_NAME</th>\n",
       "    </tr>\n",
       "  </thead>\n",
       "  <tbody>\n",
       "    <tr>\n",
       "      <th>50000</th>\n",
       "      <td>景德镇 陶瓷 保温杯茶杯带盖镂空青花瓷器泡花水杯子会议办公杯 镂空红花</td>\n",
       "    </tr>\n",
       "    <tr>\n",
       "      <th>50001</th>\n",
       "      <td>紫砂杯茶杯隔舱壶盖杯水杯正品茶具过滤大号 7 知足常乐无隔舱</td>\n",
       "    </tr>\n",
       "    <tr>\n",
       "      <th>50002</th>\n",
       "      <td>台湾戏墨 手绘粉彩 釉中彩水滴茶海 公道杯 功夫茶具 多色 荷花</td>\n",
       "    </tr>\n",
       "    <tr>\n",
       "      <th>50003</th>\n",
       "      <td>浪漫陶瓷 景德镇创意全手工陶瓷茶具茶杯马克杯主人杯大号 A</td>\n",
       "    </tr>\n",
       "    <tr>\n",
       "      <th>50004</th>\n",
       "      <td>唐域 手绘杯景德镇手绘单茶杯 陶瓷功夫茶具品茗杯 青花瓷主人杯普洱茶碗斗笠 斗笠静</td>\n",
       "    </tr>\n",
       "  </tbody>\n",
       "</table>\n",
       "</div>"
      ],
      "text/plain": [
       "                                       ITEM_NAME\n",
       "50000        景德镇 陶瓷 保温杯茶杯带盖镂空青花瓷器泡花水杯子会议办公杯 镂空红花\n",
       "50001             紫砂杯茶杯隔舱壶盖杯水杯正品茶具过滤大号 7 知足常乐无隔舱\n",
       "50002           台湾戏墨 手绘粉彩 釉中彩水滴茶海 公道杯 功夫茶具 多色 荷花\n",
       "50003              浪漫陶瓷 景德镇创意全手工陶瓷茶具茶杯马克杯主人杯大号 A\n",
       "50004  唐域 手绘杯景德镇手绘单茶杯 陶瓷功夫茶具品茗杯 青花瓷主人杯普洱茶碗斗笠 斗笠静"
      ]
     },
     "execution_count": 62,
     "metadata": {},
     "output_type": "execute_result"
    }
   ],
   "source": [
    "datas[1].head()"
   ]
  },
  {
   "cell_type": "code",
   "execution_count": 71,
   "metadata": {},
   "outputs": [
    {
     "data": {
      "text/plain": [
       "'Test_Raw_0'"
      ]
     },
     "execution_count": 71,
     "metadata": {},
     "output_type": "execute_result"
    }
   ],
   "source": [
    "import os\n",
    "os.listdir(\"data/test_raw\")"
   ]
  },
  {
   "cell_type": "code",
   "execution_count": 72,
   "metadata": {},
   "outputs": [],
   "source": [
    "df  = pd.DataFrame()"
   ]
  },
  {
   "cell_type": "code",
   "execution_count": 79,
   "metadata": {},
   "outputs": [],
   "source": [
    "for i in os.listdir(\"data/test_raw\"):\n",
    "    df = df.append(pd.read_csv(\"data/test_raw/\" + i))"
   ]
  },
  {
   "cell_type": "code",
   "execution_count": 80,
   "metadata": {},
   "outputs": [
    {
     "data": {
      "text/plain": [
       "(4475684, 2)"
      ]
     },
     "execution_count": 80,
     "metadata": {},
     "output_type": "execute_result"
    }
   ],
   "source": [
    "df.shape"
   ]
  },
  {
   "cell_type": "code",
   "execution_count": 83,
   "metadata": {},
   "outputs": [
    {
     "data": {
      "text/plain": [
       "0                                            腾讯QQ蓝钻贵族34个月直充\n",
       "1               腾讯QQ币24元24QQ币24个直充24Q币24个Q币24个QB/24QQB★自动充值\n",
       "2               腾讯QQ币101元101QQ币101个直充101Q币101个Q币101个QB★自动充值\n",
       "3              腾讯QQ币402元 402QB 402QQ币402个 402Q币 402个Q币 自动充值\n",
       "4              腾讯QQ币380元 380QB 380QQ币380个 380Q币 380个Q币 自动充值\n",
       "5              腾讯QQ币424元 424QB 424QQ币424个 424Q币 424个Q币 自动充值\n",
       "6              腾讯QQ币479元 479QB 479QQ币479个 479Q币 479个Q币 自动充值\n",
       "7                            腾讯QQ会员1个月QQ会员一个月包月卡自动充值可查时间可续费\n",
       "8                腾讯QQ蓝钻包月卡 QQ蓝钻一个月QQ蓝钻1个月 1个月QQ蓝钻 可查可续 自动充值\n",
       "9               腾讯QQ币35元35QQ币35个直充35Q币35个Q币35个QB/35QQB★自动充值\n",
       "10                                      腾讯QQ紫钻贵族 飞车紫钻42个月直充\n",
       "11                        QQ粉钻两个月QQ粉钻2个月/QQ宠物粉钻2个月可查时间 自动充值\n",
       "12                    腾讯QQ币357元357QQ币自动充值357qb/357个QQB★自动充值\n",
       "13            腾讯QQ币148元148QQ币148个qb直充148Q币148个Q币148个QB点卡 自动\n",
       "14                  QQ飞车紫钻十一个月QQ飞车紫钻包年QQ车紫钻11个月可续费可查时间★自动充值\n",
       "15                      腾讯QQ秀红钻贵族年费12个月一年15点成长可续费查时间自动充值带年标\n",
       "16               腾讯QQ音乐绿钻贵族十个月 QQ空间音乐绿钻10个月 包月卡可查时间可续费★自动充值\n",
       "17              腾讯QQ币55元55QQ币55个直充55Q币55个Q币55个QB/55QQB★自动充值\n",
       "18                    腾讯QQ币421元421QQ币自动充值421qb/421个QQB★自动充值\n",
       "19             腾讯QQ币119元 119QB 119QQ币119个 119Q币 119个Q币 自动充值\n",
       "20                       腾讯QQ炫舞紫钻3个月QQ炫舞紫钻三个月QQ炫舞紫钻三个月 自动充值\n",
       "21             腾讯QQ蓝钻 QQ蓝钻五个月 QQ蓝钻5个月QQ蓝钻 五个月QQ蓝钻 可查可续 自动充值\n",
       "22                        QQ粉钻三个月QQ粉钻3个月/QQ宠物粉钻3个月可查时间 自动充值\n",
       "23                                            腾讯QQ堂紫钻50个月直充\n",
       "24                                           腾讯QQ黄钻贵族17个月直充\n",
       "25             腾讯QQ会员 QQ会员九个月 QQ会员9个月QQ会员 九个月QQ会员 可查可续 自动充值\n",
       "26             腾讯QQ币337元 337QB 337QQ币337个 337Q币 337个Q币 自动充值\n",
       "27             腾讯QQ币178元 178QB 178QQ币178个 178Q币 178个Q币 自动充值\n",
       "28                                           腾讯QQ黄钻贵族48个月直充\n",
       "29                                     腾讯QQ绿钻贵族 音乐绿钻 16个月直充\n",
       "                                ...                        \n",
       "475654                  [Hilarious珠宝]玛瑙玉戒指情侣玉扳指男女款指环 窄面小号白色\n",
       "475655    爵饰 和田玉白玉本命佛吊坠白玉八大守护神挂件 男女款十二生肖守护神玉坠玉佩玉石项链 带证书 ...\n",
       "475656                香港知名品牌 杨氏六喜 正品瓜油绿A货翡翠玉叶挂件 冰种玉叶吊坠 附带证书\n",
       "475657                        玉颜阁珠宝 翡翠吊坠 银镶翡翠平安扣吊坠女款翡翠吊坠送银链\n",
       "475658                           玉礼珠宝 翡翠玉牌圆牌飘阳绿三阳开泰圆牌玉石吊坠挂件\n",
       "475659                      星宏紫顺 天然翡翠弥勒佛 玉佛A货 白底青种 佛吊坠 1959\n",
       "475660             克拉诺kelanuo S925纯银饰品吊坠 韩版简约心锁项链吊坠 时尚潮流银饰品\n",
       "475661                        淘玉 翡翠绶带鸟如意吊坠如意长寿玉项坠 缅甸玉挂件 dgs\n",
       "475662                 玉至峰和田玉青玉戒指 天然玉石男女款青玉指环玉石玉器含证书 内径22mm\n",
       "475663          【底价清仓】2016新品正六开四色烫金福字福牌390×680mm 挂历 中号福牌 百福\n",
       "475664                       荔尚珠宝 翡翠佛公 女士吊坠 a货糯种翡翠佛公挂件尼勒佛玉坠\n",
       "475665                再兴玉斋 开光和田玉青白玉水花济世观音挂件 男款玉器玉石吊坠 附送鉴定证书\n",
       "475666                   YC107果敢翡翠 阳绿翡翠路路通玉石路路通吊坠玉坠挂件18K金镶嵌\n",
       "475667                     chenim/晶石灵 18K金黄玉吊坠 玉石吊坠 民族风宝石饰品\n",
       "475668           炫银部落 925银镀玫瑰金 春暖花开和田玉戒指 女款银戒指 开口设计 3011058\n",
       "475669           雅凝珠宝 pt950铂金项链 扭片形 女士项链 带国检证书 17寸42cm约2.9克\n",
       "475670                   海瞳 淡水珍珠项链 时尚混彩蝴蝶吊坠 紫色吊坠7-8mm 43cm长\n",
       "475671                    先礼后品 紫绿玛瑙吊坠 吊坠挂件 雕件挂件把件 紫绿玛瑙 连连如意\n",
       "475672               胜鑫款珠宝 分期购冰种阳绿凤牌翡翠吊坠A货凤凰牌挂件 Y1508009281\n",
       "475673                      【百店惠战】千晟和田玉年年有玉男士吊坠牌年年有余挂坠饰品带证书\n",
       "475674                   亿珍阁 18K伴钻淡绿福瓜吊坠 冰种A货玉石挂件 女款玉坠子 送证书\n",
       "475675                        佐罗 汽车香水 琉璃葫芦挂件 豪华款 貔貅+路路通 翡翠绿\n",
       "475676                 PH7银饰 十二生肖手链东陵玉 S925银时尚大气手链手串 蛇 生肖吊坠\n",
       "475677                            金璐澜 玉髓四季豆吊坠玉四季豆挂件四季豆玉坠004\n",
       "475678           卓玉缘 和田玉佛吊坠 新疆碧玉弥勒公玉坠 女士玉石项链挂件珠宝玉器玉佩带证书 款式1\n",
       "475679    王翠 翡翠a货玉石观音吊坠项链 男士男款观音项链玉石玉坠挂件 椭圆圆形玉珠长链 送礼证书 款...\n",
       "475680                     御尚玉 玉石贝壳手工编织挂件配绳礼绳特价促销挂绳男女款项链 C款\n",
       "475681                                    尚客诚品 天然玛瑙跳棋 （含证书）\n",
       "475682                       润丽 翡翠a货玉坠金镶玉吊坠翡翠玉石挂件男女款十二生肖带证书\n",
       "475683                          S7831果敢翡翠 双彩翡翠大象把件玉石大象把玩手把件\n",
       "Name: ITEM_NAME, Length: 4475684, dtype: object"
      ]
     },
     "execution_count": 83,
     "metadata": {},
     "output_type": "execute_result"
    }
   ],
   "source": [
    "df[\"ITEM_NAME\"]"
   ]
  },
  {
   "cell_type": "code",
   "execution_count": null,
   "metadata": {},
   "outputs": [],
   "source": []
  }
 ],
 "metadata": {
  "kernelspec": {
   "display_name": "Python 3",
   "language": "python",
   "name": "python3"
  },
  "language_info": {
   "codemirror_mode": {
    "name": "ipython",
    "version": 3
   },
   "file_extension": ".py",
   "mimetype": "text/x-python",
   "name": "python",
   "nbconvert_exporter": "python",
   "pygments_lexer": "ipython3",
   "version": "3.6.7"
  }
 },
 "nbformat": 4,
 "nbformat_minor": 2
}
